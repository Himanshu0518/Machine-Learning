{
  "nbformat": 4,
  "nbformat_minor": 0,
  "metadata": {
    "colab": {
      "provenance": [],
      "authorship_tag": "ABX9TyNZCOSPbW9JEKFxxUZpMcuJ",
      "include_colab_link": true
    },
    "kernelspec": {
      "name": "python3",
      "display_name": "Python 3"
    },
    "language_info": {
      "name": "python"
    }
  },
  "cells": [
    {
      "cell_type": "markdown",
      "metadata": {
        "id": "view-in-github",
        "colab_type": "text"
      },
      "source": [
        "<a href=\"https://colab.research.google.com/github/Himanshu0518/Machine-Learning/blob/main/Numpy0.ipynb\" target=\"_parent\"><img src=\"https://colab.research.google.com/assets/colab-badge.svg\" alt=\"Open In Colab\"/></a>"
      ]
    },
    {
      "cell_type": "markdown",
      "source": [
        "NumPy - Numerical Python\n",
        "\n",
        "Numpy is a fundamental package for scientific computing in python supporting for large , mullti-dimensional array and matrices , along with collection of mathematical functions to operate\n",
        "\n",
        "Advantages of Numpy Arrays :\n",
        "1. Allows several Mathematical Operations\n",
        "2. Faster Operations\n",
        "\n",
        "\n"
      ],
      "metadata": {
        "id": "FrZsymthymlM"
      }
    },
    {
      "cell_type": "code",
      "execution_count": null,
      "metadata": {
        "id": "FKuYaZbJycC_"
      },
      "outputs": [],
      "source": [
        "import numpy as np"
      ]
    },
    {
      "cell_type": "markdown",
      "source": [
        "List vs Numpy - Time taken"
      ],
      "metadata": {
        "id": "yqj1xCso0jCL"
      }
    },
    {
      "cell_type": "code",
      "source": [
        "from time import process_time"
      ],
      "metadata": {
        "id": "fI1xIsNKzVOl"
      },
      "execution_count": null,
      "outputs": []
    },
    {
      "cell_type": "markdown",
      "source": [
        "Time taken by a List"
      ],
      "metadata": {
        "id": "tAc7R6qP0x7m"
      }
    },
    {
      "cell_type": "code",
      "source": [
        "python_list = [i for i in range (1000)]\n",
        "\n",
        "st_time = process_time()\n",
        "pyython_list = [i+5 for i in  python_list]\n",
        "en_time = process_time()\n",
        "print(en_time - st_time)\n"
      ],
      "metadata": {
        "colab": {
          "base_uri": "https://localhost:8080/"
        },
        "id": "tmwH1pbO0xJY",
        "outputId": "8dda15ac-fb07-43c0-d11b-71885ba5043e"
      },
      "execution_count": null,
      "outputs": [
        {
          "output_type": "stream",
          "name": "stdout",
          "text": [
            "0.00018386799999969838\n"
          ]
        }
      ]
    },
    {
      "cell_type": "code",
      "source": [
        "np_array = np.array([i for i in range (1000)])\n",
        "st_time = process_time()\n",
        "np_array += 5\n",
        "en_time = process_time()\n",
        "print(en_time-st_time)"
      ],
      "metadata": {
        "colab": {
          "base_uri": "https://localhost:8080/"
        },
        "id": "U7FPb8F11Vw8",
        "outputId": "93657dd3-a3fc-4f54-b142-debfa60845b6"
      },
      "execution_count": null,
      "outputs": [
        {
          "output_type": "stream",
          "name": "stdout",
          "text": [
            "0.0016403640000000053\n"
          ]
        }
      ]
    },
    {
      "cell_type": "markdown",
      "source": [
        "Numpy arrays"
      ],
      "metadata": {
        "id": "ED0drxyx3N1G"
      }
    },
    {
      "cell_type": "code",
      "source": [
        "# lists\n",
        "list1 = [1,2,3,4]\n",
        "print(list1)\n",
        "type(list1)"
      ],
      "metadata": {
        "colab": {
          "base_uri": "https://localhost:8080/"
        },
        "id": "xRaDJcui2nNJ",
        "outputId": "9bf8f68a-d868-486f-8647-145a378da8a1"
      },
      "execution_count": null,
      "outputs": [
        {
          "output_type": "stream",
          "name": "stdout",
          "text": [
            "[1, 2, 3, 4]\n"
          ]
        },
        {
          "output_type": "execute_result",
          "data": {
            "text/plain": [
              "list"
            ]
          },
          "metadata": {},
          "execution_count": 12
        }
      ]
    },
    {
      "cell_type": "code",
      "source": [
        "# numpy array\n",
        "np_array = np.array([1,2,3,4])\n",
        "print(np_array)\n",
        "type(np_array)"
      ],
      "metadata": {
        "colab": {
          "base_uri": "https://localhost:8080/"
        },
        "id": "a_nh_the35c_",
        "outputId": "41a70183-d060-4968-9b1c-61acd7f33943"
      },
      "execution_count": null,
      "outputs": [
        {
          "output_type": "stream",
          "name": "stdout",
          "text": [
            "[1 2 3 4]\n"
          ]
        },
        {
          "output_type": "execute_result",
          "data": {
            "text/plain": [
              "numpy.ndarray"
            ]
          },
          "metadata": {},
          "execution_count": 13
        }
      ]
    },
    {
      "cell_type": "code",
      "source": [
        "# creating 1 dim array\n",
        "a = np.array([1,2,3,4])\n",
        "print(a) ;\n",
        "a.shape"
      ],
      "metadata": {
        "colab": {
          "base_uri": "https://localhost:8080/"
        },
        "id": "s6OTGTRq3c6M",
        "outputId": "eee413f8-5b95-47ff-edbe-f31578ea3db4"
      },
      "execution_count": null,
      "outputs": [
        {
          "output_type": "stream",
          "name": "stdout",
          "text": [
            "[1 2 3 4]\n"
          ]
        },
        {
          "output_type": "execute_result",
          "data": {
            "text/plain": [
              "(4,)"
            ]
          },
          "metadata": {},
          "execution_count": 14
        }
      ]
    },
    {
      "cell_type": "code",
      "source": [
        "# creating 2D numpy array\n",
        "b = np.array([(1,2,3,4),(3,4,5,8)])\n",
        "print(b) ;\n",
        "b.shape"
      ],
      "metadata": {
        "colab": {
          "base_uri": "https://localhost:8080/"
        },
        "id": "y7U7xLgY4cxa",
        "outputId": "5045d031-1d60-4772-878c-bc2b82c0b22d"
      },
      "execution_count": null,
      "outputs": [
        {
          "output_type": "stream",
          "name": "stdout",
          "text": [
            "[[1 2 3 4]\n",
            " [3 4 5 8]]\n"
          ]
        },
        {
          "output_type": "execute_result",
          "data": {
            "text/plain": [
              "(2, 4)"
            ]
          },
          "metadata": {},
          "execution_count": 15
        }
      ]
    },
    {
      "cell_type": "code",
      "source": [
        "c = np.array([(1,2,3,4),(3,4,5,8)],dtype=float)\n",
        "print(c) ;\n",
        "c.shape"
      ],
      "metadata": {
        "colab": {
          "base_uri": "https://localhost:8080/"
        },
        "id": "UnJ9zayW7lBr",
        "outputId": "a8f09ece-2d6b-4332-ef4c-d0ed59f530af"
      },
      "execution_count": null,
      "outputs": [
        {
          "output_type": "stream",
          "name": "stdout",
          "text": [
            "[[1. 2. 3. 4.]\n",
            " [3. 4. 5. 8.]]\n"
          ]
        },
        {
          "output_type": "execute_result",
          "data": {
            "text/plain": [
              "(2, 4)"
            ]
          },
          "metadata": {},
          "execution_count": 16
        }
      ]
    },
    {
      "cell_type": "markdown",
      "source": [
        "Initial placeholder in numpy arrays"
      ],
      "metadata": {
        "id": "blb4eFlh75A1"
      }
    },
    {
      "cell_type": "code",
      "source": [
        "# Create numpy arrays of Zeoes\n",
        "x = np.zeros((4,5))\n",
        "print(x)"
      ],
      "metadata": {
        "colab": {
          "base_uri": "https://localhost:8080/"
        },
        "id": "bRqloaJQ73FN",
        "outputId": "aa908708-99c5-4f9a-9f37-ff1a7ebefc77"
      },
      "execution_count": null,
      "outputs": [
        {
          "output_type": "stream",
          "name": "stdout",
          "text": [
            "[[0. 0. 0. 0. 0.]\n",
            " [0. 0. 0. 0. 0.]\n",
            " [0. 0. 0. 0. 0.]\n",
            " [0. 0. 0. 0. 0.]]\n"
          ]
        }
      ]
    },
    {
      "cell_type": "code",
      "source": [
        "# create a numpy arrays of ones\n",
        "y = np.ones((3,4))\n",
        "print(y)"
      ],
      "metadata": {
        "colab": {
          "base_uri": "https://localhost:8080/"
        },
        "id": "Z1zu5i6X8THD",
        "outputId": "165ec0ce-c294-48ce-e408-c9500f1f0ff3"
      },
      "execution_count": null,
      "outputs": [
        {
          "output_type": "stream",
          "name": "stdout",
          "text": [
            "[[1. 1. 1. 1.]\n",
            " [1. 1. 1. 1.]\n",
            " [1. 1. 1. 1.]]\n"
          ]
        }
      ]
    },
    {
      "cell_type": "code",
      "source": [
        "# create numpy array of specific value\n",
        "z = np.full((4,5),5)\n",
        "print(z)"
      ],
      "metadata": {
        "colab": {
          "base_uri": "https://localhost:8080/"
        },
        "id": "G79Sifry8ohZ",
        "outputId": "565b5c86-2147-4060-9120-eb237ac99fb2"
      },
      "execution_count": null,
      "outputs": [
        {
          "output_type": "stream",
          "name": "stdout",
          "text": [
            "[[5 5 5 5 5]\n",
            " [5 5 5 5 5]\n",
            " [5 5 5 5 5]\n",
            " [5 5 5 5 5]]\n"
          ]
        }
      ]
    },
    {
      "cell_type": "code",
      "source": [
        "# create a numpy identity matrix\n",
        "I = np.eye(4)\n",
        "print(I)"
      ],
      "metadata": {
        "colab": {
          "base_uri": "https://localhost:8080/"
        },
        "id": "p3AG40wi9A4S",
        "outputId": "ca8c86ce-0e80-4b4b-e17c-8071b2a8c47e"
      },
      "execution_count": null,
      "outputs": [
        {
          "output_type": "stream",
          "name": "stdout",
          "text": [
            "[[1. 0. 0. 0.]\n",
            " [0. 1. 0. 0.]\n",
            " [0. 0. 1. 0.]\n",
            " [0. 0. 0. 1.]]\n"
          ]
        }
      ]
    },
    {
      "cell_type": "code",
      "source": [
        "#create a numpy array with random array within [0,1]\n",
        "r = np.random.random((3,4))\n",
        "print(r)"
      ],
      "metadata": {
        "colab": {
          "base_uri": "https://localhost:8080/"
        },
        "id": "pGwq-Wou9UpA",
        "outputId": "c069027b-ccb3-44ee-c386-382610ab81ef"
      },
      "execution_count": null,
      "outputs": [
        {
          "output_type": "stream",
          "name": "stdout",
          "text": [
            "[[0.29343177 0.49921912 0.41853925 0.67561385]\n",
            " [0.14987733 0.11044972 0.47040281 0.80282986]\n",
            " [0.6886251  0.12874837 0.97335296 0.59798561]]\n"
          ]
        }
      ]
    },
    {
      "cell_type": "code",
      "source": [
        "#create a numpy array with random array within specific range\n",
        "R = np.random.randint(10,100,(3,5))\n",
        "print(R)"
      ],
      "metadata": {
        "colab": {
          "base_uri": "https://localhost:8080/"
        },
        "id": "T_DCUsxV9028",
        "outputId": "b31cf433-aba3-4836-f68c-d0f48a1dd943"
      },
      "execution_count": null,
      "outputs": [
        {
          "output_type": "stream",
          "name": "stdout",
          "text": [
            "[[70 64 60 84 79]\n",
            " [74 28 61 91 28]\n",
            " [32 35 93 45 26]]\n"
          ]
        }
      ]
    },
    {
      "cell_type": "code",
      "source": [
        "# creating array with evenly spaced values --> specifying the number of values\n",
        "d = np.linspace(10,30,5)\n",
        "print(d)"
      ],
      "metadata": {
        "id": "pFh4KAq6-G2R",
        "colab": {
          "base_uri": "https://localhost:8080/"
        },
        "outputId": "ac01aa6a-3dbf-4b8a-a275-fc8aa3b989ed"
      },
      "execution_count": null,
      "outputs": [
        {
          "output_type": "stream",
          "name": "stdout",
          "text": [
            "[10. 15. 20. 25. 30.]\n"
          ]
        }
      ]
    },
    {
      "cell_type": "code",
      "source": [
        "# array of evenly spaced values --> specifying the step\n",
        "e = np.arange(10,20,3)\n",
        "print(e)"
      ],
      "metadata": {
        "colab": {
          "base_uri": "https://localhost:8080/"
        },
        "id": "4xob84Txa5yi",
        "outputId": "70c4c88c-18be-403a-a36b-2db6a7aa4bce"
      },
      "execution_count": null,
      "outputs": [
        {
          "output_type": "stream",
          "name": "stdout",
          "text": [
            "[10 13 16 19]\n"
          ]
        }
      ]
    },
    {
      "cell_type": "code",
      "source": [
        "# convert a list to numpy array\n",
        "list_3 = [10,20,30]\n",
        "np_arr = np.asarray(list_3)\n",
        "print(np_arr)\n",
        "type(np_arr)"
      ],
      "metadata": {
        "colab": {
          "base_uri": "https://localhost:8080/"
        },
        "id": "mkWleo8pb68R",
        "outputId": "0ee54b30-cf82-4e43-9f0c-4399a4c57b18"
      },
      "execution_count": null,
      "outputs": [
        {
          "output_type": "stream",
          "name": "stdout",
          "text": [
            "[10 20 30]\n"
          ]
        },
        {
          "output_type": "execute_result",
          "data": {
            "text/plain": [
              "numpy.ndarray"
            ]
          },
          "metadata": {},
          "execution_count": 8
        }
      ]
    },
    {
      "cell_type": "markdown",
      "source": [
        "Analysing a numpy array"
      ],
      "metadata": {
        "id": "_uKS5bYzcntv"
      }
    },
    {
      "cell_type": "code",
      "source": [
        "arr = np.random.randint(10,60,(5,5))\n",
        "print(arr)\n",
        "print(arr.shape)\n",
        "print(arr.ndim)\n",
        "print(arr.size)\n",
        "print(arr.dtype)"
      ],
      "metadata": {
        "colab": {
          "base_uri": "https://localhost:8080/"
        },
        "id": "65Y0mpUocdd5",
        "outputId": "526f2e6e-fd60-466d-b602-b9d5ce68de27"
      },
      "execution_count": null,
      "outputs": [
        {
          "output_type": "stream",
          "name": "stdout",
          "text": [
            "[[39 39 10 33 29]\n",
            " [37 26 39 44 56]\n",
            " [27 15 33 12 45]\n",
            " [55 11 56 41 38]\n",
            " [10 21 37 30 16]]\n",
            "(5, 5)\n",
            "2\n",
            "25\n",
            "int64\n"
          ]
        }
      ]
    },
    {
      "cell_type": "markdown",
      "source": [
        "Mathematical operations on numpy array"
      ],
      "metadata": {
        "id": "CBzHxdY7dog5"
      }
    },
    {
      "cell_type": "code",
      "source": [
        "list1 = [1,2,3,4,5,6]\n",
        "list2 = [3,5,6,7,8]\n",
        "print(list1 + list2)"
      ],
      "metadata": {
        "colab": {
          "base_uri": "https://localhost:8080/"
        },
        "id": "FG1T0Fk1c9Cc",
        "outputId": "8046e4f6-322d-409f-c05e-6904b101b7d7"
      },
      "execution_count": null,
      "outputs": [
        {
          "output_type": "stream",
          "name": "stdout",
          "text": [
            "[1, 2, 3, 4, 5, 6, 3, 5, 6, 7, 8]\n"
          ]
        }
      ]
    },
    {
      "cell_type": "code",
      "source": [
        "a1 = np.linspace(10,50,5)\n",
        "print(a1)\n",
        "a2 = np.linspace(20,60,5)\n",
        "print(a2)\n"
      ],
      "metadata": {
        "colab": {
          "base_uri": "https://localhost:8080/"
        },
        "id": "hBHSFqPmd7wL",
        "outputId": "a9ee66c8-639c-4205-a259-a136ab401308"
      },
      "execution_count": null,
      "outputs": [
        {
          "output_type": "stream",
          "name": "stdout",
          "text": [
            "[10. 20. 30. 40. 50.]\n",
            "[20. 30. 40. 50. 60.]\n"
          ]
        }
      ]
    },
    {
      "cell_type": "code",
      "source": [
        "print(a1 + a2)\n",
        "print(a2 - a1)\n",
        "print(a1/a2)\n",
        "print(a1*a2)"
      ],
      "metadata": {
        "colab": {
          "base_uri": "https://localhost:8080/"
        },
        "id": "lb4hFJ4Ee7Sw",
        "outputId": "60b90ceb-bb5a-4641-ecea-6c76e3fb1bac"
      },
      "execution_count": null,
      "outputs": [
        {
          "output_type": "stream",
          "name": "stdout",
          "text": [
            "[ 30.  50.  70.  90. 110.]\n",
            "[10. 10. 10. 10. 10.]\n",
            "[0.5        0.66666667 0.75       0.8        0.83333333]\n",
            "[ 200.  600. 1200. 2000. 3000.]\n"
          ]
        }
      ]
    },
    {
      "cell_type": "code",
      "source": [
        "print(np.add(a1,a2))"
      ],
      "metadata": {
        "colab": {
          "base_uri": "https://localhost:8080/"
        },
        "id": "-zZTbRy5e_H5",
        "outputId": "a383f2f7-bd2d-47dd-e2ed-1928653e3e5c"
      },
      "execution_count": null,
      "outputs": [
        {
          "output_type": "stream",
          "name": "stdout",
          "text": [
            "[ 30.  50.  70.  90. 110.]\n"
          ]
        }
      ]
    },
    {
      "cell_type": "code",
      "source": [
        "A = np.random.randint(10,20,(3,4))\n",
        "print(A)\n",
        "AT = np.transpose(A)\n",
        "print(AT)"
      ],
      "metadata": {
        "id": "yC08sYwkf_O3",
        "colab": {
          "base_uri": "https://localhost:8080/"
        },
        "outputId": "e11ea1e8-aa4d-43ea-f2ee-e320fb0f6301"
      },
      "execution_count": null,
      "outputs": [
        {
          "output_type": "stream",
          "name": "stdout",
          "text": [
            "[[17 12 11 19]\n",
            " [12 17 16 13]\n",
            " [17 18 15 16]]\n",
            "[[17 12 17]\n",
            " [12 17 18]\n",
            " [11 16 15]\n",
            " [19 13 16]]\n"
          ]
        }
      ]
    },
    {
      "cell_type": "markdown",
      "source": [
        "**Slicing 2D arrays**"
      ],
      "metadata": {
        "id": "6O40KtHWzFTE"
      }
    },
    {
      "cell_type": "code",
      "source": [
        "arr = np.array([[1, 2, 3, 4, 5], [6, 7, 8, 9, 10] , [3 , 5 , 7 , 9 , 1]])\n",
        "print(arr[0:3, 2])"
      ],
      "metadata": {
        "id": "cs6-nbA9aWvu",
        "colab": {
          "base_uri": "https://localhost:8080/"
        },
        "outputId": "7d3f2229-2322-4bf4-b26e-0f72b08e284e"
      },
      "execution_count": null,
      "outputs": [
        {
          "output_type": "stream",
          "name": "stdout",
          "text": [
            "[3 8 7]\n"
          ]
        }
      ]
    },
    {
      "cell_type": "code",
      "source": [
        "print(arr[2,1:4])"
      ],
      "metadata": {
        "colab": {
          "base_uri": "https://localhost:8080/"
        },
        "id": "5x-POhLmzPWO",
        "outputId": "e0b19c7e-09cd-4d9f-a862-4d82271afaf5"
      },
      "execution_count": null,
      "outputs": [
        {
          "output_type": "stream",
          "name": "stdout",
          "text": [
            "[5 7 9]\n"
          ]
        }
      ]
    },
    {
      "cell_type": "markdown",
      "source": [
        "Converting the data type of array using **astype**"
      ],
      "metadata": {
        "id": "UwKDjmII1Pbg"
      }
    },
    {
      "cell_type": "code",
      "source": [
        "arr = np.array([0,3.4,5,7.7])\n",
        "print(arr.astype(int))"
      ],
      "metadata": {
        "colab": {
          "base_uri": "https://localhost:8080/"
        },
        "id": "k0Uto9_S0JN8",
        "outputId": "7fb66d04-d847-4762-b00b-aa6d6989b488"
      },
      "execution_count": null,
      "outputs": [
        {
          "output_type": "stream",
          "name": "stdout",
          "text": [
            "[0 3 5 7]\n"
          ]
        }
      ]
    },
    {
      "cell_type": "code",
      "source": [
        "print(arr.astype(bool))"
      ],
      "metadata": {
        "colab": {
          "base_uri": "https://localhost:8080/"
        },
        "id": "R28_Kq2410HR",
        "outputId": "ab84aebc-4862-417d-fa94-cc445b8575ac"
      },
      "execution_count": null,
      "outputs": [
        {
          "output_type": "stream",
          "name": "stdout",
          "text": [
            "[False  True  True  True]\n"
          ]
        }
      ]
    },
    {
      "cell_type": "code",
      "source": [],
      "metadata": {
        "id": "54JogIC518yC"
      },
      "execution_count": null,
      "outputs": []
    }
  ]
}