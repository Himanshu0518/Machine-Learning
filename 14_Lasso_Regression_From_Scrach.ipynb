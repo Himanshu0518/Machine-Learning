{
  "nbformat": 4,
  "nbformat_minor": 0,
  "metadata": {
    "colab": {
      "provenance": [],
      "authorship_tag": "ABX9TyM9GYWMaCDtXisj75ZTlkC/",
      "include_colab_link": true
    },
    "kernelspec": {
      "name": "python3",
      "display_name": "Python 3"
    },
    "language_info": {
      "name": "python"
    }
  },
  "cells": [
    {
      "cell_type": "markdown",
      "metadata": {
        "id": "view-in-github",
        "colab_type": "text"
      },
      "source": [
        "<a href=\"https://colab.research.google.com/github/Himanshu0518/Machine-Learning/blob/main/14_Lasso_Regression_From_Scrach.ipynb\" target=\"_parent\"><img src=\"https://colab.research.google.com/assets/colab-badge.svg\" alt=\"Open In Colab\"/></a>"
      ]
    },
    {
      "cell_type": "code",
      "execution_count": null,
      "metadata": {
        "id": "3n4_eMeKzBWD"
      },
      "outputs": [],
      "source": [
        "import numpy as np\n",
        "import pandas as pd"
      ]
    },
    {
      "cell_type": "code",
      "source": [
        "class Lasso_Regression:\n",
        "  def __init__(self,iterations,LearningRate,lamda):\n",
        "    self.iterations = iterations\n",
        "    self.LearningRate=LearningRate\n",
        "    self.lamda = lamda\n",
        "\n",
        "  def fit(self,X,Y):\n",
        "    self.m , self.n = X.shape\n",
        "    self.w = np.zeros(n)\n",
        "    self.b = 0\n",
        "    self.X = X\n",
        "    self.Y = Y\n",
        "    for i in range(self.iterations):\n",
        "      self.update_weights()\n",
        "\n",
        "  def update_weights(self):\n",
        "    Y_pred = self.predict(self.X)\n",
        "    dw = []\n",
        "    for i in range(self.n):\n",
        "     if self.w[i]>0:\n",
        "       dw[i] = (-(2*(self.X[:,1]).dot(self.Y - Y_pred)) + self.lamda)/self.m\n",
        "     else:\n",
        "       dw[i] = (-(2*(self.X[:,1]).dot(self.Y - Y_pred)) - self.lamda)/self.m\n",
        "\n",
        "    db = -2*np.sum(self.Y - Y_pred)/self.m\n",
        "    self.w = self.w - self.LearningRate*dw\n",
        "    self.b = self.b - self.LearninngRate*db\n",
        "\n",
        "    def predict(self,X):\n",
        "      return X.dot(self.w) + self.b"
      ],
      "metadata": {
        "id": "Q-hV52hLzpQ9"
      },
      "execution_count": null,
      "outputs": []
    },
    {
      "cell_type": "code",
      "source": [],
      "metadata": {
        "id": "NUIPBgVm5yDk"
      },
      "execution_count": null,
      "outputs": []
    }
  ]
}