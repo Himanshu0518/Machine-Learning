{
  "cells": [
    {
      "cell_type": "markdown",
      "metadata": {
        "id": "view-in-github",
        "colab_type": "text"
      },
      "source": [
        "<a href=\"https://colab.research.google.com/github/Himanshu0518/Machine-Learning/blob/main/Python_Basics.ipynb\" target=\"_parent\"><img src=\"https://colab.research.google.com/assets/colab-badge.svg\" alt=\"Open In Colab\"/></a>"
      ]
    },
    {
      "cell_type": "markdown",
      "metadata": {
        "id": "I7ECqkjbqi8J"
      },
      "source": [
        "system specifications"
      ]
    },
    {
      "cell_type": "code",
      "execution_count": null,
      "metadata": {
        "colab": {
          "base_uri": "https://localhost:8080/"
        },
        "id": "U50w06sypNYz",
        "outputId": "bd77e419-9d4b-4657-8673-cb4e11b50806"
      },
      "outputs": [
        {
          "name": "stdout",
          "output_type": "stream",
          "text": [
            "processor\t: 0\n",
            "vendor_id\t: GenuineIntel\n",
            "cpu family\t: 6\n",
            "model\t\t: 79\n",
            "model name\t: Intel(R) Xeon(R) CPU @ 2.20GHz\n",
            "stepping\t: 0\n",
            "microcode\t: 0xffffffff\n",
            "cpu MHz\t\t: 2199.998\n",
            "cache size\t: 56320 KB\n",
            "physical id\t: 0\n",
            "siblings\t: 2\n",
            "core id\t\t: 0\n",
            "cpu cores\t: 1\n",
            "apicid\t\t: 0\n",
            "initial apicid\t: 0\n",
            "fpu\t\t: yes\n",
            "fpu_exception\t: yes\n",
            "cpuid level\t: 13\n",
            "wp\t\t: yes\n",
            "flags\t\t: fpu vme de pse tsc msr pae mce cx8 apic sep mtrr pge mca cmov pat pse36 clflush mmx fxsr sse sse2 ss ht syscall nx pdpe1gb rdtscp lm constant_tsc rep_good nopl xtopology nonstop_tsc cpuid tsc_known_freq pni pclmulqdq ssse3 fma cx16 pcid sse4_1 sse4_2 x2apic movbe popcnt aes xsave avx f16c rdrand hypervisor lahf_lm abm 3dnowprefetch invpcid_single ssbd ibrs ibpb stibp fsgsbase tsc_adjust bmi1 hle avx2 smep bmi2 erms invpcid rtm rdseed adx smap xsaveopt arat md_clear arch_capabilities\n",
            "bugs\t\t: cpu_meltdown spectre_v1 spectre_v2 spec_store_bypass l1tf mds swapgs taa mmio_stale_data retbleed bhi\n",
            "bogomips\t: 4399.99\n",
            "clflush size\t: 64\n",
            "cache_alignment\t: 64\n",
            "address sizes\t: 46 bits physical, 48 bits virtual\n",
            "power management:\n",
            "\n",
            "processor\t: 1\n",
            "vendor_id\t: GenuineIntel\n",
            "cpu family\t: 6\n",
            "model\t\t: 79\n",
            "model name\t: Intel(R) Xeon(R) CPU @ 2.20GHz\n",
            "stepping\t: 0\n",
            "microcode\t: 0xffffffff\n",
            "cpu MHz\t\t: 2199.998\n",
            "cache size\t: 56320 KB\n",
            "physical id\t: 0\n",
            "siblings\t: 2\n",
            "core id\t\t: 0\n",
            "cpu cores\t: 1\n",
            "apicid\t\t: 1\n",
            "initial apicid\t: 1\n",
            "fpu\t\t: yes\n",
            "fpu_exception\t: yes\n",
            "cpuid level\t: 13\n",
            "wp\t\t: yes\n",
            "flags\t\t: fpu vme de pse tsc msr pae mce cx8 apic sep mtrr pge mca cmov pat pse36 clflush mmx fxsr sse sse2 ss ht syscall nx pdpe1gb rdtscp lm constant_tsc rep_good nopl xtopology nonstop_tsc cpuid tsc_known_freq pni pclmulqdq ssse3 fma cx16 pcid sse4_1 sse4_2 x2apic movbe popcnt aes xsave avx f16c rdrand hypervisor lahf_lm abm 3dnowprefetch invpcid_single ssbd ibrs ibpb stibp fsgsbase tsc_adjust bmi1 hle avx2 smep bmi2 erms invpcid rtm rdseed adx smap xsaveopt arat md_clear arch_capabilities\n",
            "bugs\t\t: cpu_meltdown spectre_v1 spectre_v2 spec_store_bypass l1tf mds swapgs taa mmio_stale_data retbleed bhi\n",
            "bogomips\t: 4399.99\n",
            "clflush size\t: 64\n",
            "cache_alignment\t: 64\n",
            "address sizes\t: 46 bits physical, 48 bits virtual\n",
            "power management:\n",
            "\n"
          ]
        }
      ],
      "source": [
        "!cat /proc/cpuinfo"
      ]
    },
    {
      "cell_type": "code",
      "execution_count": null,
      "metadata": {
        "colab": {
          "base_uri": "https://localhost:8080/"
        },
        "id": "Lk7CzDhgrEyl",
        "outputId": "1c2ef70e-2e34-4f6a-ad12-c98ba681a5d4"
      },
      "outputs": [
        {
          "name": "stdout",
          "output_type": "stream",
          "text": [
            "MemTotal:       13290464 kB\n",
            "MemFree:         8718008 kB\n",
            "MemAvailable:   12392056 kB\n",
            "Buffers:          336716 kB\n",
            "Cached:          3520512 kB\n",
            "SwapCached:            0 kB\n",
            "Active:           597732 kB\n",
            "Inactive:        3722776 kB\n",
            "Active(anon):       1136 kB\n",
            "Inactive(anon):   463576 kB\n",
            "Active(file):     596596 kB\n",
            "Inactive(file):  3259200 kB\n",
            "Unevictable:           4 kB\n",
            "Mlocked:               4 kB\n",
            "SwapTotal:             0 kB\n",
            "SwapFree:              0 kB\n",
            "Dirty:               376 kB\n",
            "Writeback:             0 kB\n",
            "AnonPages:        463432 kB\n",
            "Mapped:           276300 kB\n",
            "Shmem:              1428 kB\n",
            "KReclaimable:     118380 kB\n",
            "Slab:             154592 kB\n",
            "SReclaimable:     118380 kB\n",
            "SUnreclaim:        36212 kB\n",
            "KernelStack:        4192 kB\n",
            "PageTables:         9132 kB\n",
            "SecPageTables:         0 kB\n",
            "NFS_Unstable:          0 kB\n",
            "Bounce:                0 kB\n",
            "WritebackTmp:          0 kB\n",
            "CommitLimit:     6645232 kB\n",
            "Committed_AS:    1980612 kB\n",
            "VmallocTotal:   34359738367 kB\n",
            "VmallocUsed:       10508 kB\n",
            "VmallocChunk:          0 kB\n",
            "Percpu:             1096 kB\n",
            "HardwareCorrupted:     0 kB\n",
            "AnonHugePages:         0 kB\n",
            "ShmemHugePages:        0 kB\n",
            "ShmemPmdMapped:        0 kB\n",
            "FileHugePages:         0 kB\n",
            "FilePmdMapped:         0 kB\n",
            "CmaTotal:              0 kB\n",
            "CmaFree:               0 kB\n",
            "Unaccepted:            0 kB\n",
            "HugePages_Total:       0\n",
            "HugePages_Free:        0\n",
            "HugePages_Rsvd:        0\n",
            "HugePages_Surp:        0\n",
            "Hugepagesize:       2048 kB\n",
            "Hugetlb:               0 kB\n",
            "DirectMap4k:       62264 kB\n",
            "DirectMap2M:     4128768 kB\n",
            "DirectMap1G:    11534336 kB\n"
          ]
        }
      ],
      "source": [
        "!cat /proc/meminfo"
      ]
    },
    {
      "cell_type": "markdown",
      "metadata": {
        "id": "WSW_wxdns2AA"
      },
      "source": [
        "Installing libraries"
      ]
    },
    {
      "cell_type": "code",
      "execution_count": null,
      "metadata": {
        "colab": {
          "base_uri": "https://localhost:8080/"
        },
        "id": "wkzq9nalrckB",
        "outputId": "48f04882-ba8b-4cbf-d1d2-f889cf86b24f"
      },
      "outputs": [
        {
          "name": "stdout",
          "output_type": "stream",
          "text": [
            "Requirement already satisfied: pandas in /usr/local/lib/python3.10/dist-packages (2.0.3)\n",
            "Requirement already satisfied: python-dateutil>=2.8.2 in /usr/local/lib/python3.10/dist-packages (from pandas) (2.8.2)\n",
            "Requirement already satisfied: pytz>=2020.1 in /usr/local/lib/python3.10/dist-packages (from pandas) (2023.4)\n",
            "Requirement already satisfied: tzdata>=2022.1 in /usr/local/lib/python3.10/dist-packages (from pandas) (2024.1)\n",
            "Requirement already satisfied: numpy>=1.21.0 in /usr/local/lib/python3.10/dist-packages (from pandas) (1.25.2)\n",
            "Requirement already satisfied: six>=1.5 in /usr/local/lib/python3.10/dist-packages (from python-dateutil>=2.8.2->pandas) (1.16.0)\n"
          ]
        }
      ],
      "source": [
        "!pip install pandas"
      ]
    },
    {
      "cell_type": "code",
      "execution_count": null,
      "metadata": {
        "id": "EgJpCY83tU6h"
      },
      "outputs": [],
      "source": [
        "import pandas as pd"
      ]
    },
    {
      "cell_type": "markdown",
      "metadata": {
        "id": "7XSnxJpkvh0v"
      },
      "source": [
        "#print function\n"
      ]
    },
    {
      "cell_type": "code",
      "execution_count": null,
      "metadata": {
        "colab": {
          "base_uri": "https://localhost:8080/"
        },
        "id": "t2xiV4kVvpq2",
        "outputId": "d2ec4f33-a637-4c07-dd37-6f4c5356c11b"
      },
      "outputs": [
        {
          "name": "stdout",
          "output_type": "stream",
          "text": [
            "RCB\n"
          ]
        }
      ],
      "source": [
        "print(\"RCB\")"
      ]
    },
    {
      "cell_type": "code",
      "execution_count": null,
      "metadata": {
        "id": "LE8zd6fTtiG2"
      },
      "outputs": [],
      "source": []
    },
    {
      "cell_type": "markdown",
      "metadata": {
        "id": "XgW-kLTKwonR"
      },
      "source": [
        "#CONSTANTS AND VARIABLES"
      ]
    },
    {
      "cell_type": "code",
      "execution_count": null,
      "metadata": {
        "colab": {
          "base_uri": "https://localhost:8080/"
        },
        "id": "8AUec6oIwtzD",
        "outputId": "23a60654-cb21-493e-99ed-68fad4c05466"
      },
      "outputs": [
        {
          "name": "stdout",
          "output_type": "stream",
          "text": [
            "hulk\n"
          ]
        }
      ],
      "source": [
        "superhero = \"hulk\"\n",
        "print(superhero)"
      ]
    },
    {
      "cell_type": "code",
      "execution_count": null,
      "metadata": {
        "colab": {
          "base_uri": "https://localhost:8080/"
        },
        "id": "2cYpZVrqAs9Z",
        "outputId": "d770478e-dd9d-4d1d-a370-1df5eb9561dc"
      },
      "outputs": [
        {
          "name": "stdout",
          "output_type": "stream",
          "text": [
            "(1+3j)\n"
          ]
        },
        {
          "data": {
            "text/plain": [
              "complex"
            ]
          },
          "execution_count": 8,
          "metadata": {},
          "output_type": "execute_result"
        }
      ],
      "source": [
        "c = 1+3j\n",
        "print(c)\n",
        "type(c)\n"
      ]
    },
    {
      "cell_type": "markdown",
      "metadata": {
        "id": "2DaUNbRoI1XX"
      },
      "source": [
        "typecasting\n"
      ]
    },
    {
      "cell_type": "code",
      "execution_count": null,
      "metadata": {
        "id": "-o-K9wW2yBEq"
      },
      "outputs": [],
      "source": []
    },
    {
      "cell_type": "code",
      "execution_count": null,
      "metadata": {
        "colab": {
          "base_uri": "https://localhost:8080/"
        },
        "id": "Nhs2IprhI9dF",
        "outputId": "3001e98e-e36a-44e8-cd71-0af98e08bcb4"
      },
      "outputs": [
        {
          "name": "stdout",
          "output_type": "stream",
          "text": [
            "10.0\n"
          ]
        }
      ],
      "source": [
        "x = float(10)\n",
        "print(x)"
      ]
    },
    {
      "cell_type": "code",
      "execution_count": null,
      "metadata": {
        "colab": {
          "base_uri": "https://localhost:8080/"
        },
        "id": "-8bKkEFWJGFq",
        "outputId": "ff18e667-cad8-4666-8c6a-7447ebeaaf49"
      },
      "outputs": [
        {
          "name": "stdout",
          "output_type": "stream",
          "text": [
            "hellow hellow hellow hellow hellow \n"
          ]
        }
      ],
      "source": [
        "print(\"hellow \"*5)"
      ]
    },
    {
      "cell_type": "markdown",
      "metadata": {
        "id": "zcMUkXj6J34R"
      },
      "source": [
        "SLICING"
      ]
    },
    {
      "cell_type": "code",
      "execution_count": null,
      "metadata": {
        "colab": {
          "background_save": true,
          "base_uri": "https://localhost:8080/"
        },
        "id": "lYEqnBm0J0y0",
        "outputId": "d665fa77-fc2b-4c4e-9c81-e34139c9e7a1"
      },
      "outputs": [
        {
          "name": "stdout",
          "output_type": "stream",
          "text": [
            " world\n",
            " ol\n"
          ]
        }
      ],
      "source": [
        "my_str = \"hello world\"\n",
        "print(my_str[5:11])\n",
        "print(my_str[5:11:2])"
      ]
    },
    {
      "cell_type": "markdown",
      "source": [
        "Types of Objects\n",
        "  1. Immutable objects\n",
        "      * int\n",
        "      * float\n",
        "      * string\n",
        "      * bool\n",
        "      * tuple --> use round braces\n",
        "\n",
        "  2. Mutable Objects\n",
        "       * List   --> use square braces\n",
        "       * Set   --> curley braces\n",
        "       * Dictionary\n",
        "  "
      ],
      "metadata": {
        "id": "VTkCX4RgQsUN"
      }
    },
    {
      "cell_type": "markdown",
      "source": [
        "# List\n"
      ],
      "metadata": {
        "id": "578Y94x5SDN1"
      }
    },
    {
      "cell_type": "code",
      "source": [
        "# list should be included in square brackets\n",
        "my_list = [1,2,3,4,5,6,8]\n",
        "print(my_list)\n",
        "type(my_list)"
      ],
      "metadata": {
        "colab": {
          "base_uri": "https://localhost:8080/"
        },
        "id": "L_7MDJmFSK3_",
        "outputId": "814cfaa2-e41f-40b1-80c9-89ae1e8acd1c"
      },
      "execution_count": null,
      "outputs": [
        {
          "output_type": "stream",
          "name": "stdout",
          "text": [
            "[1, 2, 3, 4, 5, 6, 8]\n"
          ]
        },
        {
          "output_type": "execute_result",
          "data": {
            "text/plain": [
              "list"
            ]
          },
          "metadata": {},
          "execution_count": 11
        }
      ]
    },
    {
      "cell_type": "code",
      "execution_count": null,
      "metadata": {
        "id": "acEDKPH4KV70",
        "colab": {
          "base_uri": "https://localhost:8080/"
        },
        "outputId": "099baeb4-04d6-434e-d550-17eb8cd03a70"
      },
      "outputs": [
        {
          "output_type": "stream",
          "name": "stdout",
          "text": [
            "[1, 2, 'himanshu', True, 20]\n",
            "5\n",
            "[1, 2, True, 20]\n",
            "[1, 2, True, 20, 'p', 'q', 7]\n"
          ]
        }
      ],
      "source": [
        "# List can have multiple datatypes\n",
        "my_list = [1,2,\"himanshu\",True]\n",
        "my_list.append(20) # push the element at the end of list\n",
        "print(my_list)\n",
        "print(len(my_list))\n",
        "del my_list[2]\n",
        "print(my_list)\n",
        "# join two list\n",
        "list2 = ['p','q',7]\n",
        "print(my_list + list2)"
      ]
    },
    {
      "cell_type": "markdown",
      "source": [
        "# Tuple\n"
      ],
      "metadata": {
        "id": "lmzS1TD5VVNf"
      }
    },
    {
      "cell_type": "code",
      "source": [
        "# tuples are immutable\n",
        "tuple_1 = (1,2,34)\n",
        "print(tuple_1)\n",
        "type(tuple_1)\n"
      ],
      "metadata": {
        "colab": {
          "base_uri": "https://localhost:8080/"
        },
        "id": "b1S7yTLpTda3",
        "outputId": "0931f6ab-a11b-4be3-ea37-7f7112d9d19b"
      },
      "execution_count": null,
      "outputs": [
        {
          "output_type": "stream",
          "name": "stdout",
          "text": [
            "(1, 2, 34)\n"
          ]
        },
        {
          "output_type": "execute_result",
          "data": {
            "text/plain": [
              "tuple"
            ]
          },
          "metadata": {},
          "execution_count": 16
        }
      ]
    },
    {
      "cell_type": "code",
      "source": [
        "# tupples also can have multiple datatypes\n",
        "tupple_1 = (1,6,8,'MACHINE LEARNING')\n",
        "\n",
        "# converting list to tupple\n",
        "my_list = [1,2,\"himanshu\",True]\n",
        "my_tuple = tuple(my_list)\n",
        "print(my_tuple)\n",
        "print(tupple_1)"
      ],
      "metadata": {
        "colab": {
          "base_uri": "https://localhost:8080/"
        },
        "id": "1mF8AHGQWNpZ",
        "outputId": "e22e5c81-f5f1-4c61-98d4-2219b7a70a05"
      },
      "execution_count": null,
      "outputs": [
        {
          "output_type": "stream",
          "name": "stdout",
          "text": [
            "(1, 2, 'himanshu', True)\n",
            "(1, 6, 8, 'MACHINE LEARNING')\n"
          ]
        }
      ]
    },
    {
      "cell_type": "markdown",
      "source": [
        "# SET"
      ],
      "metadata": {
        "id": "BpRMoBO9X5PC"
      }
    },
    {
      "cell_type": "code",
      "source": [
        "set1 = {2,4,5,6}\n",
        "# No indexing\n",
        "# No duplicate elements\n",
        "my_list = [1,2,\"himanshu\",True]\n",
        "my_set = set(my_list)\n",
        "print(my_set)"
      ],
      "metadata": {
        "colab": {
          "base_uri": "https://localhost:8080/"
        },
        "id": "J0kI7aNtXjz-",
        "outputId": "1bbc2762-2272-424c-f229-cbf550a0ab69"
      },
      "execution_count": null,
      "outputs": [
        {
          "output_type": "stream",
          "name": "stdout",
          "text": [
            "{1, 2, 'himanshu'}\n"
          ]
        }
      ]
    },
    {
      "cell_type": "markdown",
      "source": [
        "# DICTIONARY\n"
      ],
      "metadata": {
        "id": "jEWF0u5UaSIN"
      }
    },
    {
      "cell_type": "code",
      "source": [
        "# key-value pairs\n",
        "# Does not allow duplicates\n",
        "my_dictionary = {'name':\"Raj\", 'age' :18 } ;\n",
        "print(type(my_dictionary))\n",
        "print(my_dictionary)\n",
        "print(my_dictionary['name'])"
      ],
      "metadata": {
        "colab": {
          "base_uri": "https://localhost:8080/"
        },
        "id": "m4dDVByjaIB0",
        "outputId": "8acf8464-ceb5-42d9-abe0-6c3bb6ad1815"
      },
      "execution_count": null,
      "outputs": [
        {
          "output_type": "stream",
          "name": "stdout",
          "text": [
            "<class 'dict'>\n",
            "{'name': 'Raj', 'age': 18}\n"
          ]
        }
      ]
    },
    {
      "cell_type": "markdown",
      "source": [
        "# Operators in Python"
      ],
      "metadata": {
        "id": "LU1G2PZddyYc"
      }
    },
    {
      "cell_type": "markdown",
      "source": [
        "1. Arithmatic Operators (+,-,/,%,**)\n",
        "2. Assignment Operators (=,+=,-=,*=,/=)\n",
        "3. Comparison Operators (>,<,==,!=)\n",
        "4. Logical Operators (and,or,NOT)\n",
        "5. Identity operators\n",
        "6. Membership Opearators\n"
      ],
      "metadata": {
        "id": "8hWTQ2-Md7fc"
      }
    },
    {
      "cell_type": "markdown",
      "source": [
        "Identity operator"
      ],
      "metadata": {
        "id": "BEQVUQjwf6CP"
      }
    },
    {
      "cell_type": "markdown",
      "source": [
        "is,is not"
      ],
      "metadata": {
        "id": "9AAjeUorf_33"
      }
    },
    {
      "cell_type": "code",
      "source": [
        " x = 5\n",
        " y = 3\n",
        " print(x is y)\n",
        " print(x is not y)"
      ],
      "metadata": {
        "id": "CKgP9KYEbAk6",
        "colab": {
          "base_uri": "https://localhost:8080/"
        },
        "outputId": "09f0aad9-6e8b-4149-d7b4-fba3a21b23d0"
      },
      "execution_count": null,
      "outputs": [
        {
          "output_type": "stream",
          "name": "stdout",
          "text": [
            "False\n",
            "True\n"
          ]
        }
      ]
    },
    {
      "cell_type": "markdown",
      "source": [
        "Membership operator\n"
      ],
      "metadata": {
        "id": "D-3ZC5TWhaMf"
      }
    },
    {
      "cell_type": "markdown",
      "source": [
        "in , not in"
      ],
      "metadata": {
        "id": "yhOzurB1hgHq"
      }
    },
    {
      "cell_type": "code",
      "source": [
        "a = 5\n",
        "b = 10\n",
        "c = [1,2,3,4,5,7]\n",
        "print(a in c)\n",
        "print(b in c)\n",
        "print(a not in c)\n",
        "print(b not in c)"
      ],
      "metadata": {
        "colab": {
          "base_uri": "https://localhost:8080/"
        },
        "id": "wfcYj8rXhkgN",
        "outputId": "b5eb7c8f-f9e1-4364-9f60-a6367f4ff207"
      },
      "execution_count": null,
      "outputs": [
        {
          "output_type": "stream",
          "name": "stdout",
          "text": [
            "True\n",
            "False\n",
            "False\n",
            "True\n"
          ]
        }
      ]
    },
    {
      "cell_type": "markdown",
      "source": [
        "# Conditional statements"
      ],
      "metadata": {
        "id": "cqYga9h1mgDs"
      }
    },
    {
      "cell_type": "markdown",
      "source": [
        "  if else in python\n",
        "\n"
      ],
      "metadata": {
        "id": "CLsoAswsiNT6"
      }
    },
    {
      "cell_type": "code",
      "source": [
        "a=int(input('Enter the 1st number'))\n",
        "if(a>50):\n",
        "  print(100)\n",
        "else:\n",
        "  print(0)\n"
      ],
      "metadata": {
        "colab": {
          "base_uri": "https://localhost:8080/"
        },
        "id": "sv3w9_UmijxW",
        "outputId": "9a20c54f-cfbe-4a81-ee85-4e285b727b60"
      },
      "execution_count": null,
      "outputs": [
        {
          "output_type": "stream",
          "name": "stdout",
          "text": [
            "Enter the 1st number20\n",
            "15\n"
          ]
        }
      ]
    },
    {
      "cell_type": "markdown",
      "source": [
        " if elif"
      ],
      "metadata": {
        "id": "HgDqazL9kuR3"
      }
    },
    {
      "cell_type": "code",
      "source": [
        "a=int(input('Enter the 1st number'))\n",
        "if(a<50):\n",
        "  print(0)\n",
        "elif(a<100):\n",
        "  print(75)\n",
        "else:\n",
        "  print(100)"
      ],
      "metadata": {
        "colab": {
          "base_uri": "https://localhost:8080/"
        },
        "id": "i8eKtSOElBpE",
        "outputId": "638435ea-b269-4cd3-d858-ae5bb281d3dc"
      },
      "execution_count": null,
      "outputs": [
        {
          "output_type": "stream",
          "name": "stdout",
          "text": [
            "Enter the 1st number55\n",
            "75\n"
          ]
        }
      ]
    },
    {
      "cell_type": "markdown",
      "source": [
        "# Loops in python"
      ],
      "metadata": {
        "id": "J3wF8PFrmKoy"
      }
    },
    {
      "cell_type": "markdown",
      "source": [
        "For loops"
      ],
      "metadata": {
        "id": "KxKrmOdtmlqM"
      }
    },
    {
      "cell_type": "code",
      "source": [
        "# to input a list of names of superheroes\n",
        "super_heroes = []\n",
        "for i in range(5): # i = 0,1,2,3,4\n",
        "  hero = input('enter your favorute superhero')\n",
        "  super_heroes.append(hero)\n",
        "\n",
        "print(super_heroes)\n"
      ],
      "metadata": {
        "colab": {
          "base_uri": "https://localhost:8080/"
        },
        "id": "UZmpRbCemRsW",
        "outputId": "5a214bfd-2cbc-4839-f387-0c557dab225a"
      },
      "execution_count": null,
      "outputs": [
        {
          "output_type": "stream",
          "name": "stdout",
          "text": [
            "enter your favorute superheroHulk\n",
            "enter your favorute superhero  Iron-Man\n",
            "enter your favorute superheroThor \n",
            "enter your favorute superhero Captain America\n",
            "enter your favorute superhero  Spider-Man\n",
            "['Hulk', '  Iron-Man', 'Thor ', ' Captain America', '  Spider-Man']\n"
          ]
        }
      ]
    },
    {
      "cell_type": "markdown",
      "source": [],
      "metadata": {
        "id": "k3tZRFaSf4nj"
      }
    },
    {
      "cell_type": "markdown",
      "source": [
        "While Loop"
      ],
      "metadata": {
        "id": "ZuKjvgA9parn"
      }
    },
    {
      "cell_type": "code",
      "source": [
        "i = 0\n",
        "\n",
        "while i<10 :\n",
        "   print(i)\n",
        "   i += 2\n"
      ],
      "metadata": {
        "colab": {
          "base_uri": "https://localhost:8080/"
        },
        "id": "zhluOOvrpdqI",
        "outputId": "934c1364-2c8a-49dd-80c4-8e05facb94f1"
      },
      "execution_count": null,
      "outputs": [
        {
          "output_type": "stream",
          "name": "stdout",
          "text": [
            "0\n",
            "2\n",
            "4\n",
            "6\n",
            "8\n"
          ]
        }
      ]
    },
    {
      "cell_type": "markdown",
      "source": [
        "# Functions in Python\n"
      ],
      "metadata": {
        "id": "SXy2mvt1qVS2"
      }
    },
    {
      "cell_type": "markdown",
      "source": [
        "Factorial of a number using functions"
      ],
      "metadata": {
        "id": "nAmOPuXqq08f"
      }
    },
    {
      "cell_type": "code",
      "source": [
        "def factorial(num):\n",
        "  fact = 1 ;\n",
        "  if num == 0:\n",
        "    return fact\n",
        "  for i in range (1,num+1):\n",
        "    fact = fact*i\n",
        "  return fact\n",
        "\n",
        "\n",
        "n = int(input('Enter  the Number'))\n",
        "print(factorial(n))"
      ],
      "metadata": {
        "colab": {
          "base_uri": "https://localhost:8080/"
        },
        "id": "QCgqulg-p9vv",
        "outputId": "103c88bc-35db-46d2-918c-1b1badcb8b69"
      },
      "execution_count": null,
      "outputs": [
        {
          "output_type": "stream",
          "name": "stdout",
          "text": [
            "Enter  the Number5\n",
            "120\n"
          ]
        }
      ]
    },
    {
      "cell_type": "code",
      "source": [],
      "metadata": {
        "id": "8ADt3ZstvYmq"
      },
      "execution_count": null,
      "outputs": []
    }
  ],
  "metadata": {
    "colab": {
      "collapsed_sections": [
        "7XSnxJpkvh0v"
      ],
      "provenance": [],
      "authorship_tag": "ABX9TyN0Ls0gqHmrIeDrvWsCssK6",
      "include_colab_link": true
    },
    "kernelspec": {
      "display_name": "Python 3",
      "name": "python3"
    },
    "language_info": {
      "name": "python"
    }
  },
  "nbformat": 4,
  "nbformat_minor": 0
}